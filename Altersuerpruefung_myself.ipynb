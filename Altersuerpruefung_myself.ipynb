{
 "cells": [
  {
   "cell_type": "code",
   "execution_count": null,
   "id": "950f9f4d-ae10-464a-be28-01f35b6d6c98",
   "metadata": {
    "editable": true,
    "slideshow": {
     "slide_type": ""
    },
    "tags": []
   },
   "outputs": [],
   "source": [
    "#pip install thefuzz"
   ]
  },
  {
   "cell_type": "code",
   "execution_count": null,
   "id": "3ba4df79-46dc-4ddb-9495-d1b3a43db719",
   "metadata": {
    "editable": true,
    "slideshow": {
     "slide_type": ""
    },
    "tags": []
   },
   "outputs": [],
   "source": [
    "import pandas as pd"
   ]
  },
  {
   "cell_type": "code",
   "execution_count": null,
   "id": "0f3a2043-c3c2-41f7-a585-145965767887",
   "metadata": {
    "editable": true,
    "slideshow": {
     "slide_type": ""
    },
    "tags": []
   },
   "outputs": [],
   "source": [
    "from thefuzz import fuzz, process"
   ]
  },
  {
   "cell_type": "code",
   "execution_count": null,
   "id": "938f2c1c-35b7-4fec-b446-f039bc3dcbcc",
   "metadata": {
    "editable": true,
    "slideshow": {
     "slide_type": ""
    },
    "tags": []
   },
   "outputs": [],
   "source": [
    "from datetime import datetime as dt\n",
    "print(\"y\")"
   ]
  },
  {
   "cell_type": "code",
   "execution_count": null,
   "id": "07473911-7004-4e36-b0bc-072c69699a24",
   "metadata": {
    "editable": true,
    "slideshow": {
     "slide_type": ""
    },
    "tags": []
   },
   "outputs": [],
   "source": [
    "df = pd.read_excel(\"Alterskontrolle 25.xlsx\")"
   ]
  },
  {
   "cell_type": "code",
   "execution_count": null,
   "id": "822f88bd-cb6c-4145-aa46-74f85f7aca63",
   "metadata": {},
   "outputs": [],
   "source": [
    "df.head(0)"
   ]
  },
  {
   "cell_type": "code",
   "execution_count": null,
   "id": "0670f61f-b789-40c8-8544-818a42615635",
   "metadata": {},
   "outputs": [],
   "source": [
    "df[\"Nachname\"]"
   ]
  },
  {
   "cell_type": "code",
   "execution_count": null,
   "id": "a7b54525-b99a-4ea4-9f1a-b24468fd9c49",
   "metadata": {},
   "outputs": [],
   "source": [
    "input_df = df"
   ]
  },
  {
   "cell_type": "code",
   "execution_count": null,
   "id": "08a746fb-3ac8-45c1-a13d-71b5c91a6433",
   "metadata": {},
   "outputs": [],
   "source": [
    "lookup_df = pd.read_excel(\"auszugAlter.xlsx\")"
   ]
  },
  {
   "cell_type": "code",
   "execution_count": null,
   "id": "49d2503f-ef6e-4957-8b05-dd5b63f08bf5",
   "metadata": {},
   "outputs": [],
   "source": [
    "print(lookup_df)"
   ]
  },
  {
   "cell_type": "code",
   "execution_count": null,
   "id": "470936c2-db1d-4c17-aab7-57a1b63b1d86",
   "metadata": {},
   "outputs": [],
   "source": [
    "input_df.Nachname[1]"
   ]
  },
  {
   "cell_type": "code",
   "execution_count": null,
   "id": "42d78137-b8dc-468c-8648-e82baee0da46",
   "metadata": {},
   "outputs": [],
   "source": [
    "process.extractOne(\"Jollinger\",input_df.Nachname)"
   ]
  },
  {
   "cell_type": "code",
   "execution_count": null,
   "id": "633c1944-9bae-45cd-95a3-2fce45c268f9",
   "metadata": {},
   "outputs": [],
   "source": [
    "input_df.Nachname"
   ]
  },
  {
   "cell_type": "code",
   "execution_count": null,
   "id": "ae81e991-bb74-4ac7-9930-ffa2c2020e08",
   "metadata": {},
   "outputs": [],
   "source": [
    "print(input_df.iterrows)"
   ]
  },
  {
   "cell_type": "code",
   "execution_count": null,
   "id": "03e7575c-1bcf-4198-b583-11a00e0d885c",
   "metadata": {},
   "outputs": [],
   "source": [
    "class NoRowFoundError(Exception):\n",
    "    def __init__(self, message, fallback_df):\n",
    "        super().__init__(message)\n",
    "        self.fallback_df = fallback_df"
   ]
  },
  {
   "cell_type": "code",
   "execution_count": null,
   "id": "85880a70-5487-49b1-b4c7-8146fd194667",
   "metadata": {},
   "outputs": [],
   "source": [
    "def find_matching_row(name, threshold=80):\n",
    "    best_match = None\n",
    "    best_score = 0\n",
    "    fehlervorname = None\n",
    "    fehlernachname = None\n",
    "    for index, row in lookup_df.iterrows():\n",
    "        suchname = f\"{row[\"Name\"]} {row[\"Vorname\"]}\"\n",
    "        score = fuzz.token_sort_ratio(name, suchname)\n",
    "        if score > best_score and score >= threshold:\n",
    "                best_score = score\n",
    "                best_match = row\n",
    "    return best_match"
   ]
  },
  {
   "cell_type": "code",
   "execution_count": null,
   "id": "70b9956d-b7e6-4fdd-8236-2d918af6fad1",
   "metadata": {},
   "outputs": [],
   "source": [
    "birthdayOfNicolas = find_matching_row(\"Krapp Nicolas\").Geburtstag\n",
    "print(birthdayOfNicolas)"
   ]
  },
  {
   "cell_type": "code",
   "execution_count": null,
   "id": "0adbfc1d-ce80-4d99-a0b8-391d595f6e6c",
   "metadata": {},
   "outputs": [],
   "source": [
    "dtofNicolas = dt.strptime(birthdayOfNicolas, \"%d.%m.%Y\").date()"
   ]
  },
  {
   "cell_type": "code",
   "execution_count": null,
   "id": "11fa4bba-54e0-464f-8a01-c47ea376862b",
   "metadata": {},
   "outputs": [],
   "source": [
    "type(dtofNicolas)"
   ]
  },
  {
   "cell_type": "code",
   "execution_count": null,
   "id": "3f6dc68b-7562-4bf6-ae00-f125716dec28",
   "metadata": {},
   "outputs": [],
   "source": [
    "def calculateAge (name, targetDate):\n",
    "    stringBirthday = find_matching_row(name).Geburtstag\n",
    "    birthdate = dt.strptime(stringBirthday, \"%d.%m.%Y\").date()\n",
    "    age = targetDate.year - birthdate.year\n",
    "    if (targetDate.month, targetDate.day) <  (birthdate.month, birthdate.day):\n",
    "        age -= 1\n",
    "    return age"
   ]
  },
  {
   "cell_type": "code",
   "execution_count": null,
   "id": "a5308e52-6f48-40e6-8cca-a57c43d3c352",
   "metadata": {},
   "outputs": [],
   "source": [
    "calculateAge(\"Nicolas Krapp\", dt(2018,1,1))"
   ]
  },
  {
   "cell_type": "code",
   "execution_count": null,
   "id": "e4580a73-3e8d-42da-b446-6d54689f5b2f",
   "metadata": {},
   "outputs": [],
   "source": [
    "dateToCheck = dt(2025,5,17)"
   ]
  },
  {
   "cell_type": "code",
   "execution_count": null,
   "id": "dd5393c8-8d5e-4ab2-a4ee-ceaf590ff019",
   "metadata": {},
   "outputs": [],
   "source": [
    "for index, row in input_df.iterrows():\n",
    "    suchname = f\"{row[\"Nachname\"]} {row[\"Vorname\"]}\" \n",
    "    \n",
    "    \"\"\"age = calculateAge(suchname, dateToCheck )\n",
    "    if (age>=18):\n",
    "        print(row.Nachname+\" \"+row.Vorname+\" >18\")\n",
    "    elif(age>= 16):\n",
    "        print(row.Nachname+\" \"+row.Vorname+\" U18\")\n",
    "    else:\n",
    "        print(row.Nachname+\" \"+row.Vorname+\" U16\")\"\"\"\n",
    "\n",
    "    try:\n",
    "        age = calculateAge(suchname, dateToCheck)  # Berechnung des Alters\n",
    "        if age >= 18:\n",
    "            print(row.Nachname + \" \" + row.Vorname + \" >18\")\n",
    "        elif age >= 16:\n",
    "            print(row.Nachname + \" \" + row.Vorname + \" U18\")\n",
    "        else:\n",
    "            print(row.Nachname + \" \" + row.Vorname + \" U16\")\n",
    "    except Exception as e:\n",
    "        print(row.Nachname + \" \" + row.Vorname + \" Alter unbekannt\")"
   ]
  },
  {
   "cell_type": "code",
   "execution_count": null,
   "id": "7f6950c8-fb10-4642-9060-5f5cdf936884",
   "metadata": {},
   "outputs": [],
   "source": [
    "\n",
    "    for index, row in input_df.iterrows():\n",
    "        suchname = f\"{row[\"Nachname\"]} {row[\"Vorname\"]}\"\n",
    "    \n",
    "        try:\n",
    "            age = calculateAge(suchname, dateToCheck)  # Berechnung des Alters\n",
    "            if age >= 18:\n",
    "                print(row.Nachname + \" \" + row.Vorname + \" >18\")\n",
    "            elif age >= 16:\n",
    "                print(row.Nachname + \" \" + row.Vorname + \" U18\")\n",
    "            else:\n",
    "                print(row.Nachname + \" \" + row.Vorname + \" U16\")\n",
    "        except Exception as e:\n",
    "            print(row.Nachname + \" \" + row.Vorname + \" Alter unbekannt\")"
   ]
  },
  {
   "cell_type": "code",
   "execution_count": null,
   "id": "8d37cc81-1c9c-4efe-b889-8bc03ae7dc38",
   "metadata": {},
   "outputs": [],
   "source": [
    "def dataExport(exportfile):\n",
    "    results = []\n",
    "    \n",
    "    for index, row in input_df.iterrows():\n",
    "        suchname = f\"{row[\"Nachname\"]} {row[\"Vorname\"]}\"\n",
    "        \n",
    "        try:\n",
    "            age = calculateAge(suchname, dateToCheck)  # Berechnung des Alters\n",
    "            if age >= 18:\n",
    "                age_group = \"\"\n",
    "            elif age >= 16:\n",
    "                age_group = \"U18\"\n",
    "            else:\n",
    "                age_group = \"U16\"\n",
    "        except Exception as e:\n",
    "            age_group = \"Alter unbekannt\"\n",
    "            age=\"\"\n",
    "\n",
    "        results.append({\n",
    "            'Nachname': row[\"Nachname\"],\n",
    "            'Vorname': row[\"Vorname\"],\n",
    "            'Altersgruppe': age_group,\n",
    "            \"Geburtstag?\": age,\n",
    "        })\n",
    "    \n",
    "    results_df = pd.DataFrame(results)\n",
    "    \n",
    "    results_df.to_excel(exportfile, index=False)\n"
   ]
  },
  {
   "cell_type": "code",
   "execution_count": null,
   "id": "39836f4b-889f-49e5-838e-dafd2d319304",
   "metadata": {},
   "outputs": [],
   "source": [
    "dataExport('output.xlsx')"
   ]
  },
  {
   "cell_type": "code",
   "execution_count": null,
   "id": "ef3addc4-59e0-4519-8bd8-cd79d9f8890e",
   "metadata": {},
   "outputs": [],
   "source": [
    "test2 = 0"
   ]
  },
  {
   "cell_type": "code",
   "execution_count": null,
   "id": "bd9072d6-0ce3-496d-af38-a86bba8b5936",
   "metadata": {},
   "outputs": [],
   "source": [
    "test = f\"{test2}. Geburtstag\" "
   ]
  },
  {
   "cell_type": "code",
   "execution_count": null,
   "id": "952ecba5-55d0-4a6e-af04-036ab342cd88",
   "metadata": {},
   "outputs": [],
   "source": [
    "print(test)"
   ]
  },
  {
   "cell_type": "code",
   "execution_count": null,
   "id": "c8920fa2-7dca-481f-8879-14079829d2a1",
   "metadata": {},
   "outputs": [],
   "source": [
    "dateToCheck = dt(2025,5,17)\n",
    "dateToCheck2 = dt(2025,6,8)"
   ]
  },
  {
   "cell_type": "code",
   "execution_count": null,
   "id": "e87ee81a-5d50-4c54-aa5a-2d8ba649ee37",
   "metadata": {},
   "outputs": [],
   "source": [
    "def dataExport(exportfile):\n",
    "    results = []\n",
    "    \n",
    "    for index, row in input_df.iterrows():\n",
    "        suchname = f\"{row[\"Nachname\"]} {row[\"Vorname\"]}\"\n",
    "        \n",
    "        try:\n",
    "            age = calculateAge(suchname, dateToCheck)\n",
    "            age_2 = calculateAge(suchname, dateToCheck2)\n",
    "            Geburtstag = \"\"\n",
    "            try: \n",
    "                if age_2 > age:\n",
    "                    Geburtstag = f\"{age_2}. Geburtstag\"\n",
    "            except Exception as e:\n",
    "                print(\"Fehler\")\n",
    "                pass\n",
    "            if age >= 18:\n",
    "                age_group = \"\"\n",
    "            elif age >= 16:\n",
    "                age_group = \"U18\"\n",
    "            else:\n",
    "                age_group = \"U16\"\n",
    "        except Exception as e:\n",
    "            age_group = \"Alter unbekannt\"\n",
    "            age= None\n",
    "            \n",
    "        results.append({\n",
    "            'Nachname': row[\"Nachname\"],\n",
    "            'Vorname': row[\"Vorname\"],\n",
    "            'Altersgruppe': age_group,\n",
    "            \"Geburtstag?\": Geburtstag,\n",
    "        })\n",
    "    \n",
    "    results_df = pd.DataFrame(results)\n",
    "    \n",
    "    results_df.to_excel(exportfile, index=False)\n"
   ]
  },
  {
   "cell_type": "code",
   "execution_count": null,
   "id": "d8df9904-e9d4-4b07-8a0a-fe3bbcdb691b",
   "metadata": {},
   "outputs": [],
   "source": [
    "dataExport('outputMitGeb.xlsx')"
   ]
  },
  {
   "cell_type": "code",
   "execution_count": null,
   "id": "36b1f9c5-7c68-4c65-8648-b19f2029d674",
   "metadata": {},
   "outputs": [],
   "source": []
  }
 ],
 "metadata": {
  "kernelspec": {
   "display_name": "Python 3 (ipykernel)",
   "language": "python",
   "name": "python3"
  },
  "language_info": {
   "codemirror_mode": {
    "name": "ipython",
    "version": 3
   },
   "file_extension": ".py",
   "mimetype": "text/x-python",
   "name": "python",
   "nbconvert_exporter": "python",
   "pygments_lexer": "ipython3",
   "version": "3.13.1"
  }
 },
 "nbformat": 4,
 "nbformat_minor": 5
}
